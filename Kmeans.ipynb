{
 "cells": [
  {
   "cell_type": "code",
   "execution_count": null,
   "metadata": {
    "id": "M5MONVzSFU3n"
   },
   "outputs": [],
   "source": [
    "# To ignore warnings\n",
    "import warnings\n",
    "warnings.filterwarnings(\"ignore\")\n",
    "import pandas as pd\n",
    "import numpy as np\n",
    "import matplotlib.pyplot as plt\n",
    "import seaborn as sns\n",
    "\n",
    "from sklearn.model_selection import train_test_split, cross_val_score\n",
    "from sklearn.preprocessing import StandardScaler\n",
    "from sklearn.cluster import KMeans\n",
    "from sklearn.preprocessing import LabelEncoder\n",
    "\n",
    "from sklearn import metrics\n",
    "\n",
    "%matplotlib inline"
   ]
  },
  {
   "cell_type": "markdown",
   "metadata": {
    "id": "t9iJ_YxaJD5u"
   },
   "source": [
    "## Load the data\n",
    "The read_csv() function can now be used to load the dataset into pandas and mount it to a disk. This allows Colab to access the drive and transforms the CSV file into a Pandas dataframe."
   ]
  },
  {
   "cell_type": "code",
   "execution_count": null,
   "metadata": {
    "colab": {
     "base_uri": "https://localhost:8080/"
    },
    "id": "mjSCMNUQFzwq",
    "outputId": "7e4912e0-53f6-4aaa-c125-7d1d14a05e0d"
   },
   "outputs": [],
   "source": [
    "# from google.colab import drive\n",
    "# drive.mount('/content/drive')\n",
    "df = pd.read_csv(\"/content/drive/MyDrive/Colab Notebooks/final_data.csv\")"
   ]
  },
  {
   "cell_type": "markdown",
   "metadata": {
    "id": "iFcubnxCJJ8-"
   },
   "source": [
    "## View the dataframe\n",
    "The shape, head, tail, and columns methods of the panadas functions allow us to quickly gauge the size of our dataset. These techniques help us gain a deeper understanding of the data.\n"
   ]
  },
  {
   "cell_type": "markdown",
   "metadata": {
    "id": "lj-t6bJGItkZ"
   },
   "source": [
    "df.head(2)"
   ]
  },
  {
   "cell_type": "code",
   "execution_count": null,
   "metadata": {
    "colab": {
     "base_uri": "https://localhost:8080/"
    },
    "id": "LmvIrblqIC0D",
    "outputId": "c91e0d82-5a3c-458e-8c51-7e7e6e3dfa13"
   },
   "outputs": [],
   "source": [
    "df.shape"
   ]
  },
  {
   "cell_type": "code",
   "execution_count": null,
   "metadata": {
    "colab": {
     "base_uri": "https://localhost:8080/",
     "height": 213
    },
    "id": "V3nbPNhPKQff",
    "outputId": "b97a0279-d6f5-43ee-dc56-7162eaea38aa"
   },
   "outputs": [],
   "source": [
    "df.head(2)"
   ]
  },
  {
   "cell_type": "code",
   "execution_count": null,
   "metadata": {
    "colab": {
     "base_uri": "https://localhost:8080/"
    },
    "id": "RzBP8HiUGiE4",
    "outputId": "8c154eaf-a118-4864-8927-2734637551bd"
   },
   "outputs": [],
   "source": [
    "df.columns"
   ]
  },
  {
   "cell_type": "markdown",
   "metadata": {
    "id": "k_0epOtCLtmq"
   },
   "source": [
    "## Profiling Data\n",
    "The practice of thoroughly analyzing the data in an existing dataset and gathering statistics and information about it is known as data profiling."
   ]
  },
  {
   "cell_type": "markdown",
   "metadata": {
    "id": "UzHZNzjlIzee"
   },
   "source": [
    "# Preprocess The Data"
   ]
  },
  {
   "cell_type": "code",
   "execution_count": null,
   "metadata": {
    "colab": {
     "base_uri": "https://localhost:8080/",
     "height": 355
    },
    "id": "DKVAVl7QFqF3",
    "outputId": "dc531050-2051-4a24-e7ee-89915b2b7f49"
   },
   "outputs": [],
   "source": [
    "df.describe()"
   ]
  },
  {
   "cell_type": "code",
   "execution_count": null,
   "metadata": {
    "colab": {
     "base_uri": "https://localhost:8080/"
    },
    "id": "sejs4Gk6FqDk",
    "outputId": "4b7a60bf-7403-4910-ebbc-507d1a132a17"
   },
   "outputs": [],
   "source": [
    "df.info()"
   ]
  },
  {
   "cell_type": "code",
   "execution_count": null,
   "metadata": {
    "colab": {
     "base_uri": "https://localhost:8080/",
     "height": 489
    },
    "id": "nwGkjs7FIBgu",
    "outputId": "a7335fc1-3a69-4fcc-89c0-2193ca74bcbe"
   },
   "outputs": [],
   "source": [
    "df[\"team\"].value_counts(ascending=False)"
   ]
  },
  {
   "cell_type": "code",
   "execution_count": null,
   "metadata": {
    "colab": {
     "base_uri": "https://localhost:8080/",
     "height": 1000
    },
    "id": "buf5jW1M0Gu_",
    "outputId": "82690227-96f7-472e-c523-339bb02bd337"
   },
   "outputs": [],
   "source": [
    "df[\"award\"].value_counts(ascending=False)"
   ]
  },
  {
   "cell_type": "code",
   "execution_count": null,
   "metadata": {
    "colab": {
     "base_uri": "https://localhost:8080/"
    },
    "id": "zY0PLL5wHEmA",
    "outputId": "a52f76f7-a592-49bd-e4c7-fd407a549d2c"
   },
   "outputs": [],
   "source": [
    "df[\"winger\"].unique()"
   ]
  },
  {
   "cell_type": "code",
   "execution_count": null,
   "metadata": {
    "colab": {
     "base_uri": "https://localhost:8080/"
    },
    "id": "HjFLDoWuHKVd",
    "outputId": "bee773a8-5d41-46b6-a54d-698716deec45"
   },
   "outputs": [],
   "source": [
    "df[\"position_encoded\"].unique()"
   ]
  },
  {
   "cell_type": "code",
   "execution_count": null,
   "metadata": {
    "colab": {
     "base_uri": "https://localhost:8080/"
    },
    "id": "2gKWmBIFzsNy",
    "outputId": "69b5e39a-96cf-4b57-bd6a-37be9fc484b3"
   },
   "outputs": [],
   "source": [
    "df[\"height\"].unique()"
   ]
  },
  {
   "cell_type": "code",
   "execution_count": null,
   "metadata": {
    "colab": {
     "base_uri": "https://localhost:8080/"
    },
    "id": "piM7dkhKzr9B",
    "outputId": "990305ac-1a27-4501-be3a-4550bda404e1"
   },
   "outputs": [],
   "source": [
    "df.shape"
   ]
  },
  {
   "cell_type": "markdown",
   "metadata": {
    "id": "E_6OBExyN6qV"
   },
   "source": [
    "## Data Quality Checks\n",
    " involve the process of ensuring that the data is accurate, complete, consistent, relevant, and reliable"
   ]
  },
  {
   "cell_type": "markdown",
   "metadata": {
    "id": "GvlkHeWnORTw"
   },
   "source": [
    "Here are typical steps involved in checking data quality"
   ]
  },
  {
   "cell_type": "markdown",
   "metadata": {
    "id": "B9b4UMudOQ4V"
   },
   "source": [
    " **1.Reliability** :\n",
    "\n",
    "Evaluate the data's source and collection process to determine its trustworthiness"
   ]
  },
  {
   "cell_type": "code",
   "execution_count": null,
   "metadata": {
    "id": "fcl6K9iIN6Yh"
   },
   "outputs": [],
   "source": [
    "# Licensed in kaggle"
   ]
  },
  {
   "cell_type": "markdown",
   "metadata": {
    "id": "M_Nh3ehgPBpU"
   },
   "source": [
    "**2.Timeliness**:\n",
    " Ensure the data is up-to-date and reflective of the current situation or the period of interest for the analysis"
   ]
  },
  {
   "cell_type": "code",
   "execution_count": null,
   "metadata": {
    "id": "d6vKfQQQPBM8"
   },
   "outputs": [],
   "source": [
    "#in 2 season 2021-2022 and 2022-2023"
   ]
  },
  {
   "cell_type": "markdown",
   "metadata": {
    "id": "t2b6fYBtnncE"
   },
   "source": [
    "**3.Consistency**:\n",
    "\n",
    "*Confirm* that the data is consistent within the dataset and across multiple data sources.For example, the same data point should not have different values in different places"
   ]
  },
  {
   "cell_type": "code",
   "execution_count": null,
   "metadata": {
    "id": "KpDqGVufnm5z"
   },
   "outputs": [],
   "source": [
    "#Consistent"
   ]
  },
  {
   "cell_type": "markdown",
   "metadata": {
    "id": "J2KzM64xp4NK"
   },
   "source": [
    "**4.Relevance:**\n",
    "\n",
    "Assess whether the data is appropriate and applicable for the intended analysis. Data that is not relevant can skew results and lead to incorrect conclusions."
   ]
  },
  {
   "cell_type": "markdown",
   "metadata": {
    "id": "iPrL4f7KqJqU"
   },
   "source": [
    "**The following are important factors for relevance:**\n",
    "\n",
    "1. Sample Appropriateness: Verify that the goals of your analysis are met by the data sample you have chosen. For example, using statistics from the Northern region will not provide reliable information for the Kingdom's Western region.\n",
    "\n",
    "\n",
    "2. Variable Selection: We can use the drop() technique to remove any columns that are irrelevant to our study. Since we are working with columns, we will set the \"axis\" parameter to 1. To make the change permanent, we will set the \"inplace\" argument to True.\n",
    "\n",
    "\n",
    "\n"
   ]
  },
  {
   "cell_type": "code",
   "execution_count": null,
   "metadata": {
    "id": "UG86Nb8AzrzJ"
   },
   "outputs": [],
   "source": [
    "# the data is relevant"
   ]
  },
  {
   "cell_type": "markdown",
   "metadata": {
    "id": "JFVYdTFeqmYM"
   },
   "source": [
    "**5. Uniqueness:**\n",
    "\n",
    "Check for and remove duplicate records to prevent skewed analysis results."
   ]
  },
  {
   "cell_type": "code",
   "execution_count": null,
   "metadata": {
    "colab": {
     "base_uri": "https://localhost:8080/"
    },
    "id": "Z430jd2fquo6",
    "outputId": "4bc6a4f6-6b9f-48fc-9b89-32b2254de406"
   },
   "outputs": [],
   "source": [
    "df.duplicated().sum()\n",
    "# no duplicates columns"
   ]
  },
  {
   "cell_type": "code",
   "execution_count": null,
   "metadata": {
    "colab": {
     "base_uri": "https://localhost:8080/",
     "height": 774
    },
    "id": "qulykDpKrBlS",
    "outputId": "5d9f90ed-95a5-48c2-920f-d28624c0a50f"
   },
   "outputs": [],
   "source": [
    "df.isnull().sum()"
   ]
  },
  {
   "cell_type": "code",
   "execution_count": null,
   "metadata": {
    "colab": {
     "base_uri": "https://localhost:8080/",
     "height": 774
    },
    "id": "7rm5EjnSrWnb",
    "outputId": "aad3e704-dbf2-457a-8fc8-7dd14dc068a9"
   },
   "outputs": [],
   "source": [
    "# check columns types\n",
    "df.dtypes"
   ]
  },
  {
   "cell_type": "code",
   "execution_count": null,
   "metadata": {
    "colab": {
     "base_uri": "https://localhost:8080/"
    },
    "id": "Uu__0FPNrYkU",
    "outputId": "f5470c6f-39bb-411b-f0d6-ff142dfa1747"
   },
   "outputs": [],
   "source": [
    "df.columns"
   ]
  },
  {
   "cell_type": "code",
   "execution_count": null,
   "metadata": {
    "colab": {
     "base_uri": "https://localhost:8080/"
    },
    "id": "OB_XOR-TrZfk",
    "outputId": "e086035c-613e-4f0e-ea92-bba1e77aa530"
   },
   "outputs": [],
   "source": [
    "df.shape"
   ]
  },
  {
   "cell_type": "code",
   "execution_count": null,
   "metadata": {
    "colab": {
     "base_uri": "https://localhost:8080/",
     "height": 116
    },
    "id": "w8lMHvHgFqII",
    "outputId": "b42450c8-c82b-4564-cdaf-8c8b4ffd4a6e"
   },
   "outputs": [],
   "source": [
    "# uniqeness\n",
    "df.drop_duplicates(inplace=True)\n",
    "df[df.duplicated()]"
   ]
  },
  {
   "cell_type": "code",
   "execution_count": null,
   "metadata": {
    "colab": {
     "base_uri": "https://localhost:8080/",
     "height": 774
    },
    "id": "zYmXhxRwKfj5",
    "outputId": "10a3dcfe-3991-4fbb-8e48-d46a5669761a"
   },
   "outputs": [],
   "source": [
    "# Completeness\n",
    "df.isnull().sum()"
   ]
  },
  {
   "cell_type": "code",
   "execution_count": null,
   "metadata": {
    "colab": {
     "base_uri": "https://localhost:8080/",
     "height": 774
    },
    "id": "0VDmR6lpKfdD",
    "outputId": "b96d7c14-56db-4045-f479-15f57d113eab"
   },
   "outputs": [],
   "source": [
    "# Accurecy types\n",
    "df.dtypes"
   ]
  },
  {
   "cell_type": "code",
   "execution_count": null,
   "metadata": {
    "id": "11WQl874zsLQ"
   },
   "outputs": [],
   "source": [
    "df.drop(columns=[\"team\",'yellow cards', 'second yellow cards', 'red cards',\"name\", \"player\",'goals conceded','clean sheets'], inplace=True)"
   ]
  },
  {
   "cell_type": "code",
   "execution_count": null,
   "metadata": {
    "id": "wKZWxo_nzsA4"
   },
   "outputs": [],
   "source": [
    "#drop whatever doesn't consider normal as a football player desription\n",
    "\n",
    "df.drop(df[(df['age'] <= 18) | (df['age'] >= 38)].index, inplace=True)\n",
    "df.drop(df[(df['current_value'] == 0) | (df['highest_value'] == 0)].index, inplace=True)\n",
    "df.drop(df[(df['appearance'] == 0.00)].index, inplace=True)\n",
    "df.drop(df[(df['height'] <= 140) | (df['height'] > 200)].index, inplace=True)\n",
    "df.drop(df[df['current_value'] >= 50000000].index, inplace=True)\n",
    "df.drop(df[df['current_value'] < 10000].index, inplace=True)\n",
    "df.drop(df[df['highest_value'] >= 50000000].index, inplace=True)\n",
    "df.drop(df[df['highest_value'] < 10000].index, inplace=True)\n",
    "df.drop(df[(df['goals'] == 0.00)].index, inplace=True)"
   ]
  },
  {
   "cell_type": "code",
   "execution_count": null,
   "metadata": {
    "colab": {
     "base_uri": "https://localhost:8080/"
    },
    "id": "isSkY_pcbs5B",
    "outputId": "6e812787-e57d-430a-b3da-3031515c91bf"
   },
   "outputs": [],
   "source": [
    "df.shape"
   ]
  },
  {
   "cell_type": "markdown",
   "metadata": {
    "id": "uLSaDjfx3NUQ"
   },
   "source": [
    "**B. Feature engineering**\n",
    "\n",
    "\n",
    "1.Feature scaling            \n",
    "2.Aggregation                        \n",
    "3.One hot coding\n"
   ]
  },
  {
   "cell_type": "code",
   "execution_count": null,
   "metadata": {
    "colab": {
     "base_uri": "https://localhost:8080/",
     "height": 112
    },
    "id": "aCwQZCiaMQqZ",
    "outputId": "cab40efb-e050-4841-b27a-dabf0b5471e6"
   },
   "outputs": [],
   "source": [
    "df.head(2)"
   ]
  },
  {
   "cell_type": "code",
   "execution_count": null,
   "metadata": {
    "id": "jMFEtUoT5tpK"
   },
   "outputs": [],
   "source": [
    "categorical_features = ['position']\n",
    "numeric_features = ['height', 'age', 'appearance', 'goals', 'assists',\n",
    "       'yellow cards', 'second yellow cards', 'red cards', 'goals conceded',\n",
    "       'clean sheets', 'minutes played', 'days_injured', 'games_injured',\n",
    "       'award', 'current_value', 'highest_value', 'winger']"
   ]
  },
  {
   "cell_type": "code",
   "execution_count": null,
   "metadata": {
    "colab": {
     "base_uri": "https://localhost:8080/"
    },
    "id": "UVp3WJTS5tm7",
    "outputId": "f2d41e86-95b9-4520-ac4c-7b036445c54d"
   },
   "outputs": [],
   "source": [
    "for i in categorical_features:\n",
    "    print (df[i].value_counts())"
   ]
  },
  {
   "cell_type": "code",
   "execution_count": null,
   "metadata": {
    "id": "V2citri15sp1"
   },
   "outputs": [],
   "source": [
    "# one hot coding\n",
    "df = pd.get_dummies(df, columns=categorical_features)"
   ]
  },
  {
   "cell_type": "code",
   "execution_count": null,
   "metadata": {
    "colab": {
     "base_uri": "https://localhost:8080/"
    },
    "id": "euogsKkdOk9w",
    "outputId": "ce0a41aa-b6f3-41e3-d6ab-f2a66ed64ab8"
   },
   "outputs": [],
   "source": [
    "df.shape"
   ]
  },
  {
   "cell_type": "code",
   "execution_count": null,
   "metadata": {
    "colab": {
     "base_uri": "https://localhost:8080/",
     "height": 179
    },
    "id": "WFgdK_erOuIA",
    "outputId": "3344c98d-391f-4fcf-9403-557cbfd1db8a"
   },
   "outputs": [],
   "source": [
    "df.head(2)"
   ]
  },
  {
   "cell_type": "code",
   "execution_count": null,
   "metadata": {
    "colab": {
     "base_uri": "https://localhost:8080/"
    },
    "id": "-xx0aXTTS2Vq",
    "outputId": "16a0b794-6087-4ad6-a4b0-b347bd1e4eb6"
   },
   "outputs": [],
   "source": [
    "# Calculate the 25th and 85th percentiles of 'current_value'\n",
    "p25 = df['current_value'].quantile(0.25)\n",
    "p65 = df['current_value'].quantile(0.65)\n",
    "\n",
    "# Function to categorize 'current_value' based on percentiles\n",
    "def categorize_current_value(current_value):\n",
    "    if current_value < p25:\n",
    "        return 'Cheap'\n",
    "    elif current_value < p65:\n",
    "        return 'Moderate'\n",
    "    else:\n",
    "        return 'Expensive'\n",
    "\n",
    "# Apply the function to create a new column 'current_value_category'\n",
    "df['current_value_category'] = df['current_value'].apply(categorize_current_value)\n",
    "\n",
    "# Optionally, drop the original 'current_value' column\n",
    "df.drop('current_value', axis=1, inplace=True)\n",
    "\n",
    "# Verify the distribution of the new categories\n",
    "print(df['current_value_category'].value_counts())"
   ]
  },
  {
   "cell_type": "code",
   "execution_count": null,
   "metadata": {
    "colab": {
     "base_uri": "https://localhost:8080/"
    },
    "id": "UJrO2RGfTN3x",
    "outputId": "a1973615-7e56-4fb2-c962-601aec3f463c"
   },
   "outputs": [],
   "source": [
    "p25, p65"
   ]
  },
  {
   "cell_type": "code",
   "execution_count": null,
   "metadata": {
    "id": "1hYQOBhKTj6-"
   },
   "outputs": [],
   "source": [
    "encoder = LabelEncoder()\n",
    "df['current_value_category'] = encoder.fit_transform(df['current_value_category'])"
   ]
  },
  {
   "cell_type": "code",
   "execution_count": null,
   "metadata": {
    "colab": {
     "base_uri": "https://localhost:8080/"
    },
    "id": "BgjeFN5bUZFm",
    "outputId": "53ffb447-46e5-4750-dfea-8c95e023a60f"
   },
   "outputs": [],
   "source": [
    "df.columns"
   ]
  },
  {
   "cell_type": "markdown",
   "metadata": {
    "id": "NSyp2T9qO5qk"
   },
   "source": [
    " **C. Feature selection**"
   ]
  },
  {
   "cell_type": "code",
   "execution_count": null,
   "metadata": {
    "colab": {
     "base_uri": "https://localhost:8080/"
    },
    "id": "oW_ACCx5_kTR",
    "outputId": "e2f4533d-023f-49ed-e38d-f45aa7c2b368"
   },
   "outputs": [],
   "source": [
    "correlation = df.corr(numeric_only=True)\n",
    "print(correlation['current_value_category'].sort_values(ascending=False))"
   ]
  },
  {
   "cell_type": "code",
   "execution_count": null,
   "metadata": {
    "colab": {
     "base_uri": "https://localhost:8080/"
    },
    "id": "n0MzEs4KAB7k",
    "outputId": "6f6e2946-e092-49a8-a75d-7b2375efde85"
   },
   "outputs": [],
   "source": [
    "# Set the correlation threshold\n",
    "threshold = 0.09 # You can change this value based on your requirement\n",
    "\n",
    "# Filter the correlations\n",
    "# We use `abs()` for absolute value to consider both strong positive and negative correlations\n",
    "selected_features = correlation[abs(correlation['current_value_category']) > \\\n",
    "threshold]['current_value_category'].index\n",
    "selected_features"
   ]
  },
  {
   "cell_type": "code",
   "execution_count": null,
   "metadata": {
    "id": "1dgzCPCVAElk"
   },
   "outputs": [],
   "source": [
    "selected_features =['appearance', 'minutes played', 'current_value_category']"
   ]
  },
  {
   "cell_type": "code",
   "execution_count": null,
   "metadata": {
    "colab": {
     "base_uri": "https://localhost:8080/"
    },
    "id": "tYFc0CZJAJ2r",
    "outputId": "bb339f7f-3cf8-48db-e2f1-d74a7103c1aa"
   },
   "outputs": [],
   "source": [
    "df.columns"
   ]
  },
  {
   "cell_type": "code",
   "execution_count": null,
   "metadata": {
    "colab": {
     "base_uri": "https://localhost:8080/",
     "height": 273
    },
    "id": "4LpP0CXEAMsR",
    "outputId": "996c960d-1dbb-4386-b46f-9f66750e1f7f"
   },
   "outputs": [],
   "source": [
    "df.head()"
   ]
  },
  {
   "cell_type": "markdown",
   "metadata": {
    "id": "XS9FLq89AhoP"
   },
   "source": [
    "## Data should be prepared."
   ]
  },
  {
   "cell_type": "code",
   "execution_count": null,
   "metadata": {
    "id": "Umv4WC2XAP9o"
   },
   "outputs": [],
   "source": [
    "# Prepare data\n",
    "X = df\n",
    "\n",
    "\n",
    "# sacle the data\n",
    "scaler = StandardScaler()\n",
    "X_scaled = scaler.fit_transform(X)"
   ]
  },
  {
   "cell_type": "code",
   "execution_count": null,
   "metadata": {
    "colab": {
     "base_uri": "https://localhost:8080/"
    },
    "id": "llZ6QlbdAn_0",
    "outputId": "ac155a01-eddd-4bc5-8812-1ccf9c27cc1e"
   },
   "outputs": [],
   "source": [
    "X.shape"
   ]
  },
  {
   "cell_type": "markdown",
   "metadata": {
    "id": "9araE-qmAp-0"
   },
   "source": [
    "## Buliding the Model"
   ]
  },
  {
   "cell_type": "code",
   "execution_count": null,
   "metadata": {
    "id": "fasVHSZbApVV"
   },
   "outputs": [],
   "source": [
    "wcss = []\n",
    "for i in range(1, 30):  # Test 1 to 10 clusters\n",
    "    kmeans = KMeans(n_clusters=i,\n",
    "                    init='k-means++',\n",
    "                    max_iter=300,\n",
    "                    n_init=10,\n",
    "                    random_state=0)\n",
    "    kmeans.fit(X_scaled)\n",
    "    wcss.append(kmeans.inertia_)  # inertia_ is the WCSS"
   ]
  },
  {
   "cell_type": "code",
   "execution_count": null,
   "metadata": {
    "colab": {
     "base_uri": "https://localhost:8080/",
     "height": 564
    },
    "id": "thjT4tw_ZyGo",
    "outputId": "78118066-5791-4e0f-b4d4-776bab71632d"
   },
   "outputs": [],
   "source": [
    "# 3. Plot the Elbow Curve\n",
    "plt.figure(figsize=(10, 6))\n",
    "plt.plot(range(1, 30), wcss,  marker='o', linestyle='-', color='b')\n",
    "plt.title('Elbow Method')\n",
    "plt.xlabel('Number of clusters')\n",
    "plt.ylabel('WCSS')\n",
    "plt.grid(True)\n",
    "plt.show()"
   ]
  },
  {
   "cell_type": "code",
   "execution_count": null,
   "metadata": {
    "id": "CcUcyGEod3sc"
   },
   "outputs": [],
   "source": [
    "# Optional: Apply k-Means using the optimal number of clusters\n",
    "optimal_clusters = 8 # This might change based on your actual elbow curve analysis\n",
    "model = KMeans(n_clusters=optimal_clusters, init='k-means++', max_iter=300, n_init=10, random_state=0)"
   ]
  },
  {
   "cell_type": "markdown",
   "metadata": {
    "id": "cfTAVVPUBHlQ"
   },
   "source": [
    "## Train and Test the Model"
   ]
  },
  {
   "cell_type": "code",
   "execution_count": null,
   "metadata": {
    "id": "IhU1X0aBBJVX"
   },
   "outputs": [],
   "source": [
    "# Fit the model on the training data\n",
    "y_pred = model.fit_predict(X_scaled)"
   ]
  },
  {
   "cell_type": "markdown",
   "metadata": {
    "id": "vMMTpZvseugD"
   },
   "source": [
    "## Evaluating the Model"
   ]
  },
  {
   "cell_type": "code",
   "execution_count": null,
   "metadata": {
    "colab": {
     "base_uri": "https://localhost:8080/",
     "height": 179
    },
    "id": "OeJQSYC6e4Cc",
    "outputId": "96e0642b-e301-42fb-c12d-05bc94d33f58"
   },
   "outputs": [],
   "source": [
    "X.head(2)"
   ]
  },
  {
   "cell_type": "code",
   "execution_count": null,
   "metadata": {
    "colab": {
     "base_uri": "https://localhost:8080/",
     "height": 472
    },
    "id": "oFpyTBN7e8Rx",
    "outputId": "e762f41b-fbd0-4c67-8c47-cea8d1689ee1"
   },
   "outputs": [],
   "source": [
    "# Plotting the clusters with optimal number\n",
    "plt.scatter(X_scaled[:, 0], X_scaled[:, 1], c=y_pred, s=50, cmap='viridis')\n",
    "\n",
    "centers = model.cluster_centers_\n",
    "plt.scatter(centers[:, 0], centers[:, 1], c='red', s=200, alpha=0.75, marker='X')\n",
    "plt.title(f'K-Means Clustering with {optimal_clusters} Clusters')\n",
    "plt.xlabel('Feature 1')\n",
    "plt.ylabel('Feature 2')\n",
    "plt.show()"
   ]
  },
  {
   "cell_type": "code",
   "execution_count": null,
   "metadata": {
    "id": "XkqQ4wbTfGbH"
   },
   "outputs": [],
   "source": [
    "X['kmeans'] = y_pred"
   ]
  },
  {
   "cell_type": "code",
   "execution_count": null,
   "metadata": {
    "colab": {
     "base_uri": "https://localhost:8080/",
     "height": 366
    },
    "id": "mPlp2TZmfJNj",
    "outputId": "ce24225a-b233-4a96-8d39-537075fa2bb6"
   },
   "outputs": [],
   "source": [
    "X['kmeans'].value_counts()"
   ]
  },
  {
   "cell_type": "code",
   "execution_count": null,
   "metadata": {
    "colab": {
     "base_uri": "https://localhost:8080/",
     "height": 461
    },
    "id": "9oIzpgWKfNxN",
    "outputId": "ee50144d-6251-4935-af8e-9bbfb3912ff0"
   },
   "outputs": [],
   "source": [
    "X[X['kmeans']==0]"
   ]
  },
  {
   "cell_type": "code",
   "execution_count": null,
   "metadata": {
    "colab": {
     "base_uri": "https://localhost:8080/"
    },
    "id": "KsrVoDb8fXWQ",
    "outputId": "575d8343-aa7f-421e-ced2-8935a62390e5"
   },
   "outputs": [],
   "source": [
    "X.columns"
   ]
  },
  {
   "cell_type": "code",
   "execution_count": null,
   "metadata": {
    "colab": {
     "base_uri": "https://localhost:8080/",
     "height": 466
    },
    "id": "DYm9dwWYfRoN",
    "outputId": "b56f4e5e-e82f-45c7-83f4-e92fd53db0c8"
   },
   "outputs": [],
   "source": [
    "sns.scatterplot(data = X , x = 'minutes played', y = 'age', hue = 'kmeans')"
   ]
  },
  {
   "cell_type": "code",
   "execution_count": null,
   "metadata": {
    "colab": {
     "base_uri": "https://localhost:8080/",
     "height": 466
    },
    "id": "376gsVYpfau1",
    "outputId": "49c63e74-c048-4bdc-e72d-151b5a6a3bbc"
   },
   "outputs": [],
   "source": [
    "sns.scatterplot(data = X , x = 'minutes played', y = 'award', hue = 'kmeans')"
   ]
  },
  {
   "cell_type": "code",
   "execution_count": null,
   "metadata": {
    "colab": {
     "base_uri": "https://localhost:8080/",
     "height": 542
    },
    "id": "1RdWnZtcfpYs",
    "outputId": "ce67e79a-ebd0-4249-a456-16930777d92c"
   },
   "outputs": [],
   "source": [
    "import plotly\n",
    "import plotly.express as px\n",
    "\n",
    "fig = px.scatter_3d(X, x='minutes played', y='age', z='highest_value',\n",
    "              color='kmeans')\n",
    "fig.show()\n"
   ]
  },
  {
   "cell_type": "code",
   "execution_count": null,
   "metadata": {},
   "outputs": [],
   "source": []
  }
 ],
 "metadata": {
  "colab": {
   "provenance": []
  },
  "kernelspec": {
   "display_name": "Python 3 (ipykernel)",
   "language": "python",
   "name": "python3"
  },
  "language_info": {
   "codemirror_mode": {
    "name": "ipython",
    "version": 3
   },
   "file_extension": ".py",
   "mimetype": "text/x-python",
   "name": "python",
   "nbconvert_exporter": "python",
   "pygments_lexer": "ipython3",
   "version": "3.12.7"
  }
 },
 "nbformat": 4,
 "nbformat_minor": 4
}
